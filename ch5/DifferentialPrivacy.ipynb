{
  "cells": [
    {
      "cell_type": "markdown",
      "source": [
        "# Chapter 5: Differential Privacy\r\n",
        "\r\n",
        "### Installing the SmartNoise SDK\r\n",
        "SmartNoise is a toolkit from OpenDP a joint project between researchers at Microsoft, Harvard University, and other contributors that aims to provide building blocks for using differential privacy in data analysis and machine learning projects.\r\n",
        "\r\n",
        "Let's start by installing the SmartNoise Python SDK package. "
      ],
      "metadata": {
        "nteract": {
          "transient": {
            "deleting": false
          }
        }
      }
    },
    {
      "cell_type": "code",
      "source": [
        "pip install smartnoise-sql"
      ],
      "outputs": [
        {
          "output_type": "stream",
          "name": "stdout",
          "text": "Collecting smartnoise-sql\n  Using cached smartnoise_sql-1.0.1-py3-none-any.whl (145 kB)\nCollecting PyYAML<7.0.0,>=6.0.1 (from smartnoise-sql)\n  Downloading PyYAML-6.0.1-cp310-cp310-manylinux_2_17_x86_64.manylinux2014_x86_64.whl (705 kB)\n\u001b[2K     \u001b[90m━━━━━━━━━━━━━━━━━━━━━━━━━━━━━━━━━━━━━━\u001b[0m \u001b[32m705.5/705.5 kB\u001b[0m \u001b[31m12.1 MB/s\u001b[0m eta \u001b[36m0:00:00\u001b[0ma \u001b[36m0:00:01\u001b[0m\n\u001b[?25hCollecting antlr4-python3-runtime==4.9.3 (from smartnoise-sql)\n  Using cached antlr4-python3-runtime-4.9.3.tar.gz (117 kB)\n  Preparing metadata (setup.py) ... \u001b[?25l-\b \bdone\n\u001b[?25hCollecting graphviz<0.18,>=0.17 (from smartnoise-sql)\n  Using cached graphviz-0.17-py3-none-any.whl (18 kB)\nCollecting opendp<0.8.0,>=0.7.0 (from smartnoise-sql)\n  Using cached opendp-0.7.0-py3-none-any.whl (19.7 MB)\nRequirement already satisfied: pandas<3.0.0,>=2.0.1 in /anaconda/envs/azureml_py310_sdkv2/lib/python3.10/site-packages (from smartnoise-sql) (2.0.2)\nRequirement already satisfied: sqlalchemy<3.0.0,>=2.0.0 in /anaconda/envs/azureml_py310_sdkv2/lib/python3.10/site-packages (from smartnoise-sql) (2.0.16)\nRequirement already satisfied: python-dateutil>=2.8.2 in /anaconda/envs/azureml_py310_sdkv2/lib/python3.10/site-packages (from pandas<3.0.0,>=2.0.1->smartnoise-sql) (2.8.2)\nRequirement already satisfied: pytz>=2020.1 in /anaconda/envs/azureml_py310_sdkv2/lib/python3.10/site-packages (from pandas<3.0.0,>=2.0.1->smartnoise-sql) (2023.3)\nRequirement already satisfied: tzdata>=2022.1 in /anaconda/envs/azureml_py310_sdkv2/lib/python3.10/site-packages (from pandas<3.0.0,>=2.0.1->smartnoise-sql) (2023.3)\nRequirement already satisfied: numpy>=1.21.0 in /anaconda/envs/azureml_py310_sdkv2/lib/python3.10/site-packages (from pandas<3.0.0,>=2.0.1->smartnoise-sql) (1.25.0)\nRequirement already satisfied: typing-extensions>=4.2.0 in /anaconda/envs/azureml_py310_sdkv2/lib/python3.10/site-packages (from sqlalchemy<3.0.0,>=2.0.0->smartnoise-sql) (4.6.3)\nRequirement already satisfied: greenlet!=0.4.17 in /anaconda/envs/azureml_py310_sdkv2/lib/python3.10/site-packages (from sqlalchemy<3.0.0,>=2.0.0->smartnoise-sql) (2.0.2)\nRequirement already satisfied: six>=1.5 in /anaconda/envs/azureml_py310_sdkv2/lib/python3.10/site-packages (from python-dateutil>=2.8.2->pandas<3.0.0,>=2.0.1->smartnoise-sql) (1.16.0)\nBuilding wheels for collected packages: antlr4-python3-runtime\n  Building wheel for antlr4-python3-runtime (setup.py) ... \u001b[?25l-\b \b\\\b \b|\b \bdone\n\u001b[?25h  Created wheel for antlr4-python3-runtime: filename=antlr4_python3_runtime-4.9.3-py3-none-any.whl size=144554 sha256=3a2add4ce05f1f5a7532067cc4b2fc89b3fba8e8e89958f2bf09b3f7df7ab62e\n  Stored in directory: /home/azureuser/.cache/pip/wheels/12/93/dd/1f6a127edc45659556564c5730f6d4e300888f4bca2d4c5a88\nSuccessfully built antlr4-python3-runtime\nInstalling collected packages: antlr4-python3-runtime, PyYAML, opendp, graphviz, smartnoise-sql\n  Attempting uninstall: PyYAML\n    Found existing installation: PyYAML 6.0\n    Uninstalling PyYAML-6.0:\n      Successfully uninstalled PyYAML-6.0\nSuccessfully installed PyYAML-6.0.1 antlr4-python3-runtime-4.9.3 graphviz-0.17 opendp-0.7.0 smartnoise-sql-1.0.1\nNote: you may need to restart the kernel to use updated packages.\n"
        }
      ],
      "execution_count": 1,
      "metadata": {
        "gather": {
          "logged": 1690914577672
        }
      }
    },
    {
      "cell_type": "markdown",
      "source": [
        "### Loading data\r\n",
        "We will now load some mock data and analyze the results. Our mock dataset contains 1000 records of random data, that include a diabetic column that declares if the person is diabetic or not and an age column with a range of values from 15 to 80 years old.\r\n",
        "\r\n",
        "> **Note**: The data have been generated using a fake data generator and have no real application except to demonstrate the library capabilities."
      ],
      "metadata": {
        "nteract": {
          "transient": {
            "deleting": false
          }
        }
      }
    },
    {
      "cell_type": "code",
      "source": [
        "import pandas as pd\r\n",
        "\r\n",
        "data_path = 'mockdata.csv'\r\n",
        "mockdata = pd.read_csv(data_path)\r\n",
        "\r\n",
        "actualdata = mockdata[['age','diabetic']].groupby(['diabetic']).mean().to_markdown()\r\n",
        "print(actualdata)"
      ],
      "outputs": [
        {
          "output_type": "stream",
          "name": "stdout",
          "text": "                id          age\ncount  1000.000000  1000.000000\nmean    500.500000    47.441000\nstd     288.819436    19.109256\nmin       1.000000    15.000000\n25%     250.750000    31.000000\n50%     500.500000    47.000000\n75%     750.250000    64.000000\nmax    1000.000000    80.000000\n| diabetic   |     age |\n|:-----------|--------:|\n| False      | 47.4101 |\n| True       | 47.4741 |\n"
        }
      ],
      "execution_count": 16,
      "metadata": {
        "jupyter": {
          "source_hidden": false,
          "outputs_hidden": false
        },
        "nteract": {
          "transient": {
            "deleting": false
          }
        },
        "gather": {
          "logged": 1690916334993
        }
      }
    },
    {
      "cell_type": "markdown",
      "source": [
        "### Perform the analysis\r\n",
        "Run the following code to compare the results with the actual data above. Changing the epsilon calue will result with either higher privacy or higher accuracy results.\r\n",
        "> **Note**: A smaller value of epsilon indicates a higher level of privacy and lower accuracy, a higher value changes the balance to the opposite."
      ],
      "metadata": {
        "nteract": {
          "transient": {
            "deleting": false
          }
        }
      }
    },
    {
      "cell_type": "code",
      "source": [
        "import snsql\r\n",
        "from snsql import Privacy\r\n",
        "import pandas as pd\r\n",
        "\r\n",
        "privacy = Privacy(epsilon=0.05, delta=0.01)\r\n",
        "\r\n",
        "csv_path = 'mockdata.csv'\r\n",
        "meta_path = 'mockdata.yaml'\r\n",
        "\r\n",
        "mockdata = pd.read_csv(csv_path)\r\n",
        "reader = snsql.from_df(mockdata, privacy=privacy, metadata=meta_path)\r\n",
        "\r\n",
        "result = reader.execute('SELECT diabetic, AVG(age) AS age FROM mockdata.table GROUP BY diabetic')\r\n",
        "\r\n",
        "print(result)"
      ],
      "outputs": [
        {
          "output_type": "stream",
          "name": "stdout",
          "text": "[['diabetic', 'age'], [False, 54.2823275862069], [True, 42.19132149901381]]\n"
        }
      ],
      "execution_count": 15,
      "metadata": {
        "jupyter": {
          "source_hidden": false,
          "outputs_hidden": false
        },
        "nteract": {
          "transient": {
            "deleting": false
          }
        },
        "gather": {
          "logged": 1690916287588
        }
      }
    }
  ],
  "metadata": {
    "kernelspec": {
      "name": "python310-sdkv2",
      "language": "python",
      "display_name": "Python 3.10 - SDK v2"
    },
    "language_info": {
      "name": "python",
      "version": "3.10.11",
      "mimetype": "text/x-python",
      "codemirror_mode": {
        "name": "ipython",
        "version": 3
      },
      "pygments_lexer": "ipython3",
      "nbconvert_exporter": "python",
      "file_extension": ".py"
    },
    "microsoft": {
      "ms_spell_check": {
        "ms_spell_check_language": "en"
      },
      "host": {
        "AzureML": {
          "notebookHasBeenCompleted": true
        }
      }
    },
    "nteract": {
      "version": "nteract-front-end@1.0.0"
    },
    "kernel_info": {
      "name": "python310-sdkv2"
    }
  },
  "nbformat": 4,
  "nbformat_minor": 2
}